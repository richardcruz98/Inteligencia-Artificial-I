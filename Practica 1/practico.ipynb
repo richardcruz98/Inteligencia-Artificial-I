{
 "cells": [
  {
   "cell_type": "markdown",
   "id": "57d564e1",
   "metadata": {},
   "source": [
    "# Práctico 01: Análisis de Datos - Estatura y Peso"
   ]
  },
  {
   "cell_type": "code",
   "execution_count": null,
   "id": "5cd0e0f2",
   "metadata": {},
   "outputs": [],
   "source": [
    "\n",
    "import numpy as np\n",
    "import pandas as pd\n",
    "import matplotlib.pyplot as plt\n",
    "from scipy.optimize import curve_fit\n",
    "\n",
    "# Generating random data for height (m) and weight (kg)\n",
    "np.random.seed(0)\n",
    "heights = np.random.uniform(1.4, 2.0, 100)  # Height between 1.4m and 2.0m\n",
    "weights = []\n",
    "\n",
    "# Generating controlled random weights based on height\n",
    "for h in heights:\n",
    "    weight = np.random.uniform(18.5 * h ** 2, 25 * h ** 2)  # BMI between 18.5 and 25\n",
    "    weights.append(weight)\n",
    "\n",
    "# Create a DataFrame to store the data\n",
    "data = pd.DataFrame({\n",
    "    'Height (m)': heights,\n",
    "    'Weight (kg)': weights\n",
    "})\n",
    "\n",
    "# Define a function for the model (linear in this case)\n",
    "def linear_model(x, a, b):\n",
    "    return a * x + b\n",
    "\n",
    "# Fit the curve to the data\n",
    "popt, pcov = curve_fit(linear_model, data['Height (m)'], data['Weight (kg)'])\n",
    "\n",
    "# Get the parameters of the fitted line\n",
    "a, b = popt\n",
    "\n",
    "# Generate the predicted weights\n",
    "predicted_weights = linear_model(data['Height (m)'], a, b)\n",
    "\n",
    "# Plotting the data and the fitted line\n",
    "plt.scatter(data['Height (m)'], data['Weight (kg)'], label='Data')\n",
    "plt.plot(data['Height (m)'], predicted_weights, color='red', label=f'Fitted line: y = {{a:.2f}}x + {{b:.2f}}')\n",
    "plt.xlabel('Height (m)')\n",
    "plt.ylabel('Weight (kg)')\n",
    "plt.title('Height vs. Weight with Fitted Line')\n",
    "plt.legend()\n",
    "plt.show()\n"
   ]
  }
 ],
 "metadata": {},
 "nbformat": 4,
 "nbformat_minor": 5
}
