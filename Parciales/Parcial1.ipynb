{
 "cells": [
  {
   "cell_type": "markdown",
   "metadata": {},
   "source": [
    "# Primer Parcial\n",
    "\n",
    "## Richard Ausberto Cruz Grimaldez\n",
    "\n",
    "https://github.com/richardcruz98/Inteligencia-Artificial-I/tree/master/Laboratorios/Lab%203"
   ]
  },
  {
   "cell_type": "code",
   "execution_count": null,
   "metadata": {},
   "outputs": [],
   "source": []
  }
 ],
 "metadata": {
  "language_info": {
   "name": "python"
  }
 },
 "nbformat": 4,
 "nbformat_minor": 2
}
