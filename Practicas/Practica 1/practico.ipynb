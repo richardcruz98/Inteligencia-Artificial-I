{
 "cells": [
  {
   "cell_type": "markdown",
   "id": "57d564e1",
   "metadata": {},
   "source": [
    "# Práctico 01: Análisis de Datos - Estatura y Peso"
   ]
  },
  {
   "cell_type": "code",
   "execution_count": null,
   "id": "5cd0e0f2",
   "metadata": {},
   "outputs": [],
   "source": [
    "\n",
    "import numpy as np\n",
    "import pandas as pd\n",
    "import matplotlib.pyplot as plt\n",
    "from scipy.optimize import curve_fit\n",
    "\n",
    "# Generar datos aleatorios para la altura (m) y el peso (kg)\n",
    "np.random.seed(0)\n",
    "alturas = np.random.uniform(1.4, 2.0, 100)  # Alturas entre 1.4m y 2.0m\n",
    "pesos = []\n",
    "\n",
    "# Generar pesos aleatorios controlados basados en la altura\n",
    "for altura in alturas:\n",
    "    peso = np.random.uniform(18.5 * altura ** 2, 25 * altura ** 2)  # IMC entre 18.5 y 25\n",
    "    pesos.append(peso)\n",
    "\n",
    "# Crear un DataFrame para almacenar los datos\n",
    "datos = pd.DataFrame({\n",
    "    'Altura (m)': alturas,\n",
    "    'Peso (kg)': pesos\n",
    "})\n",
    "\n",
    "# Definir una función para el modelo (lineal en este caso)\n",
    "def modelo_lineal(x, a, b):\n",
    "    return a * x + b\n",
    "\n",
    "# Ajustar la curva a los datos\n",
    "parametros_optimos, matriz_covarianza = curve_fit(modelo_lineal, datos['Altura (m)'], datos['Peso (kg)'])\n",
    "\n",
    "# Obtener los parámetros de la línea ajustada\n",
    "a, b = parametros_optimos\n",
    "\n",
    "# Generar los pesos predichos\n",
    "pesos_predichos = modelo_lineal(datos['Altura (m)'], a, b)\n",
    "\n",
    "# Graficar los datos y la línea ajustada\n",
    "plt.scatter(datos['Altura (m)'], datos['Peso (kg)'], label='Datos')\n",
    "plt.plot(datos['Altura (m)'], pesos_predichos, color='red', label=f'Línea ajustada: y = {a:.2f}x + {b:.2f}')\n",
    "plt.xlabel('Altura (m)')\n",
    "plt.ylabel('Peso (kg)')\n",
    "plt.title('Relación entre Altura y Peso con Línea Ajustada')\n",
    "plt.legend()\n",
    "plt.show()\n",
    "\n",
    "#Repositorio en github\n",
    "#https://github.com/richardcruz98/Inteligencia-Artificial-I"
   ]
  }
 ],
 "metadata": {
  "language_info": {
   "name": "python"
  }
 },
 "nbformat": 4,
 "nbformat_minor": 5
}
